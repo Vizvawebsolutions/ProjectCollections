{
 "cells": [
  {
   "cell_type": "markdown",
   "id": "e107fa2f-4b71-438f-83ba-bf0334188758",
   "metadata": {},
   "source": [
    "### 1. Load the [sales_dataset](https://raw.githubusercontent.com/ItsmeBlackOps/Datasets/main/sales_data_large.csv) file into a pandas DataFrame and assign it to a variable called sales_data\n"
   ]
  },
  {
   "cell_type": "code",
   "execution_count": null,
   "id": "e16f5f76-281c-411d-abaf-9b700fc4d2e5",
   "metadata": {},
   "outputs": [],
   "source": []
  },
  {
   "cell_type": "markdown",
   "id": "0d357631-08d6-4ba3-af35-f7505322ebc6",
   "metadata": {},
   "source": [
    "### 2. Display the first 5 rows of the DataFrame\n"
   ]
  },
  {
   "cell_type": "code",
   "execution_count": null,
   "id": "5fdc11ef-c4d3-4903-a51b-ceb5ccef09e7",
   "metadata": {},
   "outputs": [],
   "source": []
  },
  {
   "cell_type": "markdown",
   "id": "1ed35ad1-d2d0-4e2a-a9a9-227180666969",
   "metadata": {},
   "source": [
    "### 3. Check the data types of each column in the DataFrame"
   ]
  },
  {
   "cell_type": "code",
   "execution_count": null,
   "id": "ce493390-73df-4d8f-b6ad-b8441b59a88d",
   "metadata": {},
   "outputs": [],
   "source": []
  },
  {
   "cell_type": "markdown",
   "id": "ade200d5-3864-46e4-b5f1-e2334c310d5a",
   "metadata": {},
   "source": [
    "### 4. Calculate the total revenue for each order (Total = Price * Quantity) and add it as a new column"
   ]
  },
  {
   "cell_type": "code",
   "execution_count": null,
   "id": "11de58c1-bf36-4d49-bafa-5f06fd261b8c",
   "metadata": {},
   "outputs": [],
   "source": []
  },
  {
   "cell_type": "markdown",
   "id": "4458e004-4d63-4c97-8576-a5378cce8553",
   "metadata": {},
   "source": [
    "### 5. Find the orders where the total revenue is in the top 10% of all orders"
   ]
  },
  {
   "cell_type": "code",
   "execution_count": null,
   "id": "8f861423-b083-4e57-9ac9-5bc055d00df4",
   "metadata": {},
   "outputs": [],
   "source": []
  },
  {
   "cell_type": "markdown",
   "id": "6c9aa15a-9dd5-4b26-9289-356b93663af6",
   "metadata": {},
   "source": [
    "### 6. Calculate the average and median revenue for each product category"
   ]
  },
  {
   "cell_type": "code",
   "execution_count": null,
   "id": "ece8b764-808b-467c-86da-6abb32c2f7a3",
   "metadata": {},
   "outputs": [],
   "source": []
  },
  {
   "cell_type": "markdown",
   "id": "4f132ffc-8dae-4803-8d76-be6e999cf4db",
   "metadata": {},
   "source": [
    "### 7. Get the unique months in the dataset"
   ]
  },
  {
   "cell_type": "code",
   "execution_count": null,
   "id": "28818a83-ec2d-40eb-82c7-12661e678c7f",
   "metadata": {},
   "outputs": [],
   "source": []
  },
  {
   "cell_type": "markdown",
   "id": "a38e81b6-9327-43f0-9dbf-a9d6ef370501",
   "metadata": {},
   "source": [
    "### 8. Group the data by product and count the number of unique months for each product"
   ]
  },
  {
   "cell_type": "code",
   "execution_count": null,
   "id": "f359e633-4723-4613-b55b-0420d3c10c48",
   "metadata": {},
   "outputs": [],
   "source": []
  },
  {
   "cell_type": "markdown",
   "id": "1b28b3bb-089e-441f-9a41-f99c5e4e2cc0",
   "metadata": {},
   "source": [
    "### 9. Identify products that were sold every month for the entire duration of the dataset"
   ]
  },
  {
   "cell_type": "code",
   "execution_count": null,
   "id": "0181ee53-55b6-47c4-b614-5169f376a0d8",
   "metadata": {},
   "outputs": [],
   "source": []
  },
  {
   "cell_type": "markdown",
   "id": "38be89c5-b565-4795-aa04-b318cef44928",
   "metadata": {},
   "source": [
    "### 10. Find the top 5 products with the highest average monthly revenue"
   ]
  },
  {
   "cell_type": "code",
   "execution_count": null,
   "id": "042d874c-0f59-45ee-91a6-783e392edf82",
   "metadata": {},
   "outputs": [],
   "source": []
  },
  {
   "cell_type": "markdown",
   "id": "132d7193-2198-4ec5-8da1-6ef8a473fe51",
   "metadata": {},
   "source": [
    "### 11. Determine the month with the highest total revenue, and provide the total revenue for that month"
   ]
  },
  {
   "cell_type": "code",
   "execution_count": null,
   "id": "6bb5cec2-debe-4be8-9255-1974a0290c8f",
   "metadata": {},
   "outputs": [],
   "source": []
  },
  {
   "cell_type": "markdown",
   "id": "10f6801d-b184-40f8-bf91-32b85d2d0113",
   "metadata": {},
   "source": [
    "### 12. Create a time series plot showing the monthly total revenue over the entire dataset"
   ]
  },
  {
   "cell_type": "code",
   "execution_count": null,
   "id": "815504a3-d34b-47f5-8a56-a01ae2e9b0ed",
   "metadata": {},
   "outputs": [],
   "source": []
  }
 ],
 "metadata": {
  "kernelspec": {
   "display_name": "anaconda-panel-2023.05-py310",
   "language": "python",
   "name": "conda-env-anaconda-panel-2023.05-py310-py"
  },
  "language_info": {
   "codemirror_mode": {
    "name": "ipython",
    "version": 3
   },
   "file_extension": ".py",
   "mimetype": "text/x-python",
   "name": "python",
   "nbconvert_exporter": "python",
   "pygments_lexer": "ipython3",
   "version": "3.11.5"
  }
 },
 "nbformat": 4,
 "nbformat_minor": 5
}
